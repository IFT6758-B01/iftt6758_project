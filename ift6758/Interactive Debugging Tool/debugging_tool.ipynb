{
 "cells": [
  {
   "cell_type": "markdown",
   "metadata": {},
   "source": [
    "# create interactive debugging tool for data"
   ]
  },
  {
   "cell_type": "code",
   "execution_count": 9,
   "metadata": {},
   "outputs": [],
   "source": [
    "import ipywidgets as widgets\n",
    "from ipywidgets import interact, interactive, fixed, interact_manual\n",
    "import matplotlib.pyplot as plt\n",
    "from IPython.display import display\n",
    "import json\n",
    "import pandas as pd\n",
    "#from data.data_acquisition import NHLDataFetcher \n",
    "from data_loading import NHLData\n"
   ]
  },
  {
   "cell_type": "code",
   "execution_count": 10,
   "metadata": {},
   "outputs": [
    {
     "data": {
      "application/vnd.jupyter.widget-view+json": {
       "model_id": "e6e34508463f4ef8a98c0872e23615c3",
       "version_major": 2,
       "version_minor": 0
      },
      "text/plain": [
       "interactive(children=(IntSlider(value=10, description='x', max=30, min=-10), Output()), _dom_classes=('widget-…"
      ]
     },
     "metadata": {},
     "output_type": "display_data"
    },
    {
     "data": {
      "text/plain": [
       "<function __main__.f(x)>"
      ]
     },
     "execution_count": 10,
     "metadata": {},
     "output_type": "execute_result"
    }
   ],
   "source": [
    "# example for use interact\n",
    "def f(x):\n",
    "    return x\n",
    "interact(f, x=10)"
   ]
  },
  {
   "cell_type": "code",
   "execution_count": 11,
   "metadata": {},
   "outputs": [
    {
     "ename": "IndentationError",
     "evalue": "expected an indented block after 'if' statement on line 8 (2674417335.py, line 10)",
     "output_type": "error",
     "traceback": [
      "\u001b[1;36m  Cell \u001b[1;32mIn[11], line 10\u001b[1;36m\u001b[0m\n\u001b[1;33m    elif (type == 'regular'):\u001b[0m\n\u001b[1;37m    ^\u001b[0m\n\u001b[1;31mIndentationError\u001b[0m\u001b[1;31m:\u001b[0m expected an indented block after 'if' statement on line 8\n"
     ]
    }
   ],
   "source": [
    "# define function and variable for plot nhl data\n",
    "season = [2015,2016,2017,2018,2019,2020,2021,2022,2023]\n",
    "game_type = ['preseason','regular', 'playoff',\"allstar\"]\n",
    "\n",
    "nhl_data = NHLData()\n",
    "\n",
    "def plot_nhl_data(season, type):\n",
    "    if(type == 'preseason'):\n",
    "        #data = nhl_data.preseason_data_list[season]\n",
    "        pass\n",
    "    elif (type == 'regular'):\n",
    "        data = nhl_data.regular_data_list[season]\n",
    "    elif (type == 'playoff'):\n",
    "        data = nhl_data.playoff_data_list[season]\n",
    "    else:\n",
    "        data = nhl_data.allstar_data_list[season]\n",
    "    \n",
    "    game_count = len(data)\n",
    "    widgets.interact(plot_game, game_number=(1, game_count,1), games_data=ipywidgets.fixed(games_data))\n",
    "\n",
    "\n",
    "\n",
    "#Plot data by parameter season, gametype\n",
    "widgets.interact(plot_nhl_data, season=season, type=game_type )"
   ]
  },
  {
   "cell_type": "code",
   "execution_count": 24,
   "metadata": {},
   "outputs": [],
   "source": [
    "with open(\"D:/works/ift6758/dataset/unprocessed/2015/game_2015010001.json\",'r', encoding='utf-8') as file:\n",
    "    data = json.load(file)"
   ]
  },
  {
   "cell_type": "code",
   "execution_count": 25,
   "metadata": {},
   "outputs": [
    {
     "name": "stdout",
     "output_type": "stream",
     "text": [
      "{'id': 2015010001, 'season': 20152016, 'gameType': 1, 'limitedScoring': False, 'gameDate': '2015-09-20', 'venue': {'default': \"Dunkin' Donuts Center\"}, 'venueLocation': {'default': 'Providence'}, 'startTimeUTC': '2015-09-20T23:00:00Z', 'easternUTCOffset': '-04:00', 'venueUTCOffset': '-04:00', 'tvBroadcasts': [{'id': 107, 'market': 'N', 'countryCode': 'US', 'network': 'NHLN-US', 'sequenceNumber': 5}, {'id': 31, 'market': 'H', 'countryCode': 'US', 'network': 'NESN', 'sequenceNumber': 78}], 'gameState': 'FINAL', 'gameScheduleState': 'OK', 'periodDescriptor': {'number': 3, 'periodType': 'REG', 'maxRegulationPeriods': 3}, 'awayTeam': {'id': 1, 'name': {'default': 'Devils'}, 'abbrev': 'NJD', 'score': 0, 'sog': 30, 'logo': 'https://assets.nhle.com/logos/nhl/svg/NJD_light.svg', 'placeName': {'default': 'New Jersey'}, 'placeNameWithPreposition': {'default': 'New Jersey', 'fr': 'du New Jersey'}}, 'homeTeam': {'id': 6, 'name': {'default': 'Bruins'}, 'abbrev': 'BOS', 'score': 2, 'sog': 21, 'logo': 'https://assets.nhle.com/logos/nhl/svg/BOS_20082009-20222023_light.svg', 'placeName': {'default': 'Boston'}, 'placeNameWithPreposition': {'default': 'Boston', 'fr': 'de Boston'}}, 'shootoutInUse': True, 'otInUse': True, 'clock': {'running': False, 'inIntermission': False}, 'displayPeriod': 1, 'maxPeriods': 5, 'gameOutcome': {'lastPeriodType': 'REG'}, 'plays': [], 'rosterSpots': [], 'regPeriods': 3, 'summary': {}}\n"
     ]
    }
   ],
   "source": [
    "print(data)\n",
    "# df = pd.DataFrame(data)\n",
    "# df.head()"
   ]
  },
  {
   "cell_type": "code",
   "execution_count": 27,
   "metadata": {},
   "outputs": [
    {
     "data": {
      "application/vnd.jupyter.widget-view+json": {
       "model_id": "fa32aa30351e46de9a8230f004099403",
       "version_major": 2,
       "version_minor": 0
      },
      "text/plain": [
       "Dropdown(description='Key:', options=('id', 'season', 'gameType', 'limitedScoring', 'gameDate', 'venue', 'venu…"
      ]
     },
     "metadata": {},
     "output_type": "display_data"
    },
    {
     "data": {
      "application/vnd.jupyter.widget-view+json": {
       "model_id": "35d897aeeffb4316b5db29ab4458548d",
       "version_major": 2,
       "version_minor": 0
      },
      "text/plain": [
       "Textarea(value='', description='Value:')"
      ]
     },
     "metadata": {},
     "output_type": "display_data"
    }
   ],
   "source": [
    "# use ipywidgets to go through the data \n",
    "\n",
    "\n",
    "# Create a dropdown widget to select a key\n",
    "key_dropdown = widgets.Dropdown(\n",
    "    options=list(data.keys()),\n",
    "    description='Key:',\n",
    "    value=list(data.keys())[0]\n",
    ")\n",
    "\n",
    "# Create a text box to display the corresponding value\n",
    "value_text = widgets.Textarea(\n",
    "    description='Value:'\n",
    ")\n",
    "\n",
    "# Define a function to update the value text based on the selected key\n",
    "def update_value(key):\n",
    "    value_text.value = str(data[key])\n",
    "\n",
    "# Attach the update function to the key dropdown's observe method\n",
    "key_dropdown.observe(lambda change: update_value(change['new']), names='value')\n",
    "\n",
    "# Display the widgets\n",
    "display(key_dropdown, value_text)"
   ]
  },
  {
   "cell_type": "code",
   "execution_count": null,
   "metadata": {},
   "outputs": [],
   "source": []
  }
 ],
 "metadata": {
  "kernelspec": {
   "display_name": "base",
   "language": "python",
   "name": "python3"
  },
  "language_info": {
   "codemirror_mode": {
    "name": "ipython",
    "version": 3
   },
   "file_extension": ".py",
   "mimetype": "text/x-python",
   "name": "python",
   "nbconvert_exporter": "python",
   "pygments_lexer": "ipython3",
   "version": "3.11.9"
  }
 },
 "nbformat": 4,
 "nbformat_minor": 2
}
