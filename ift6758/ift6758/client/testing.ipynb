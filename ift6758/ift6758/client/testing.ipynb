{
 "cells": [
  {
   "cell_type": "code",
   "execution_count": 2,
   "metadata": {},
   "outputs": [],
   "source": [
    "from serving_client import ServingClient"
   ]
  },
  {
   "cell_type": "code",
   "execution_count": 107,
   "metadata": {},
   "outputs": [],
   "source": [
    "serving_client = ServingClient(ip=\"127.0.0.1\", port=5000)\n",
    "\n",
    "input_features = {\n",
    "    \"distance_from_net\": [10, 15],\n",
    "    \"angle_from_net\": [30, 45]\n",
    "}"
   ]
  },
  {
   "cell_type": "code",
   "execution_count": 106,
   "metadata": {},
   "outputs": [
    {
     "name": "stdout",
     "output_type": "stream",
     "text": [
      "[0.16911093786352122, 0.1480201964162434]\n"
     ]
    }
   ],
   "source": [
    "# Test /predict\n",
    "print(serving_client.predict(input_features))"
   ]
  },
  {
   "cell_type": "code",
   "execution_count": 108,
   "metadata": {},
   "outputs": [
    {
     "name": "stdout",
     "output_type": "stream",
     "text": [
      "<pre>2024-12-15 01:58:25,138 [INFO] Flask app initialized.\n",
      "2024-12-15 01:58:25,138 - INFO - Flask app initialized.\n",
      "2024-12-15 01:58:25,183 [INFO] Loaded model from: models/Distance_Angle_model.pkl\n",
      "2024-12-15 01:58:25,183 - INFO - Loaded model from: models/Distance_Angle_model.pkl\n",
      "2024-12-15 01:58:25,183 [INFO] Default model Distance_Angle version v0 loaded successfully.\n",
      "2024-12-15 01:58:25,183 - INFO - Default model Distance_Angle version v0 loaded successfully.\n",
      "2024-12-15 01:58:28,223 [INFO] Predictions made successfully.\n",
      "2024-12-15 01:58:28,223 - INFO - Predictions made successfully.\n",
      "2024-12-15 01:58:33,559 [INFO] {'workspace': 'ms2-logistic-regression', 'model': 'Distance_Only', 'version': 'v0'}\n",
      "2024-12-15 01:58:33,559 - INFO - {'workspace': 'ms2-logistic-regression', 'model': 'Distance_Only', 'version': 'v0'}\n",
      "2024-12-15 01:58:33,560 [INFO] Downloading model Distance_Only version v0 from WandB registry.\n",
      "2024-12-15 01:58:33,560 - INFO - Downloading model Distance_Only version v0 from WandB registry.\n",
      "2024-12-15 01:58:36,557 [INFO] Loaded model from: models/Distance_Only_model.pkl\n",
      "2024-12-15 01:58:36,557 - INFO - Loaded model from: models/Distance_Only_model.pkl\n",
      "2024-12-15 01:58:36,557 [INFO] Successfully loaded model: Distance_Only version v0\n",
      "2024-12-15 01:58:36,557 - INFO - Successfully loaded model: Distance_Only version v0\n",
      "2024-12-15 01:58:45,232 [INFO] Predictions made successfully.\n",
      "2024-12-15 01:58:45,232 - INFO - Predictions made successfully.\n",
      "</pre>\n"
     ]
    }
   ],
   "source": [
    "# Test /logs\n",
    "print(serving_client.logs())"
   ]
  },
  {
   "cell_type": "code",
   "execution_count": 104,
   "metadata": {},
   "outputs": [
    {
     "name": "stdout",
     "output_type": "stream",
     "text": [
      "{'message': 'Model Distance_Only version v0 loaded successfully.'}\n"
     ]
    }
   ],
   "source": [
    "# Test /download_registry_model\n",
    "print(serving_client.download_registry_model(\n",
    "    workspace=\"ms2-logistic-regression\",\n",
    "    model=\"Distance_Only\",\n",
    "    version=\"v0\"\n",
    "))"
   ]
  },
  {
   "cell_type": "code",
   "execution_count": 109,
   "metadata": {},
   "outputs": [],
   "source": [
    "import requests\n",
    "import json\n",
    "import pandas as pd\n",
    "\n",
    "BASE_URL = \"http://127.0.0.1:5000\"\n",
    "\n",
    "# Test Data\n",
    "test_game_id = \"2021020001\"  # Replace with a valid game ID\n",
    "test_model_payload = {\n",
    "    \"workspace\": \"ms2-logistic-regression\",\n",
    "    \"model\": \"Distance_Angle\",\n",
    "    \"version\": \"v0\",\n",
    "}\n",
    "test_predict_payload = [\n",
    "    {\"distance_from_net\": 30, \"angle_from_net\": 15},\n",
    "    {\"distance_from_net\": 40, \"angle_from_net\": 25},\n",
    "]\n",
    "\n",
    "def test_process_game():\n",
    "    print(\"\\nTesting /process_game endpoint...\")\n",
    "    payload = {\"game_id\": test_game_id}\n",
    "    response = requests.post(f\"{BASE_URL}/process_game\", json=payload)\n",
    "    if response.status_code == 200:\n",
    "        print(\"Game processed successfully!\")\n",
    "        print(response)\n",
    "        if not isinstance(response.json(), dict):\n",
    "            print(\"Game was processed successfully!\")\n",
    "            processed_events = pd.DataFrame(response.json())\n",
    "            print(processed_events.head())  # Print the first few processed events\n",
    "        else:\n",
    "            print(\"No new events to process.\")\n",
    "    else:\n",
    "        print(f\"Failed to process game: {response.status_code} - {response.text}\")\n",
    "\n",
    "def test_download_registry_model():\n",
    "    print(\"\\nTesting /download_registry_model endpoint...\")\n",
    "    response = requests.post(f\"{BASE_URL}/download_registry_model\", json=test_model_payload)\n",
    "    if response.status_code == 200:\n",
    "        print(\"Model downloaded and loaded successfully!\")\n",
    "        print(response.json())\n",
    "    else:\n",
    "        print(f\"Failed to download model: {response.status_code} - {response.text}\")\n",
    "\n",
    "def test_logs():\n",
    "    print(\"\\nTesting /logs endpoint...\")\n",
    "    response = requests.get(f\"{BASE_URL}/logs\")\n",
    "    if response.status_code == 200:\n",
    "        print(\"Logs fetched successfully!\")\n",
    "        print(response.text)  # Print the first 500 characters of logs\n",
    "    else:\n",
    "        print(f\"Failed to fetch logs: {response.status_code} - {response.text}\")"
   ]
  },
  {
   "cell_type": "code",
   "execution_count": 110,
   "metadata": {},
   "outputs": [
    {
     "name": "stdout",
     "output_type": "stream",
     "text": [
      "\n",
      "Testing /download_registry_model endpoint...\n",
      "Model downloaded and loaded successfully!\n",
      "{'message': 'Model Distance_Angle version v0 loaded successfully.'}\n"
     ]
    }
   ],
   "source": [
    "test_download_registry_model()"
   ]
  },
  {
   "cell_type": "code",
   "execution_count": 111,
   "metadata": {},
   "outputs": [
    {
     "name": "stdout",
     "output_type": "stream",
     "text": [
      "\n",
      "Testing /process_game endpoint...\n",
      "Game processed successfully!\n",
      "<Response [200]>\n",
      "Game was processed successfully!\n",
      "      game_id  event_id    event_type time_in_period time_remaining  period  \\\n",
      "0  2021020001        57  shot-on-goal          01:44          18:16       1   \n",
      "1  2021020001        60  shot-on-goal          02:47          17:13       1   \n",
      "2  2021020001        66  shot-on-goal          04:32          15:28       1   \n",
      "3  2021020001        68  shot-on-goal          04:39          15:21       1   \n",
      "4  2021020001        24  shot-on-goal          05:18          14:42       1   \n",
      "\n",
      "   team_id  x_coord  y_coord  shooter_id  goalie_id shot_type zone_code  \\\n",
      "0        5      -65       19   8476934.0  8476883.0     wrist         O   \n",
      "1        5      -60       -4   8478046.0  8476883.0     wrist         O   \n",
      "2        5      -63      -33   8478017.0  8476883.0     wrist         O   \n",
      "3        5      -61      -10   8478866.0  8476883.0      slap         O   \n",
      "4        5      -75       -9   8475810.0  8476883.0  backhand         O   \n",
      "\n",
      "   distance_from_net  angle_from_net  is_goal  net_x  net_y  \\\n",
      "0          31.400637      -37.234834        0    -90      0   \n",
      "1          30.265492        7.594643        0    -90      0   \n",
      "2          42.638011       50.710593        0    -90      0   \n",
      "3          30.675723       19.025606        0    -90      0   \n",
      "4          17.492856       30.963757        0    -90      0   \n",
      "\n",
      "   predicted_probabilities  \n",
      "0                 0.092874  \n",
      "1                 0.096983  \n",
      "2                 0.068384  \n",
      "3                 0.096113  \n",
      "4                 0.139391  \n"
     ]
    }
   ],
   "source": [
    "test_process_game()"
   ]
  },
  {
   "cell_type": "code",
   "execution_count": 115,
   "metadata": {},
   "outputs": [
    {
     "name": "stdout",
     "output_type": "stream",
     "text": [
      "\n",
      "Testing /logs endpoint...\n",
      "Logs fetched successfully!\n",
      "<pre>2024-12-15 01:58:25,138 [INFO] Flask app initialized.\n",
      "2024-12-15 01:58:25,138 - INFO - Flask app initialized.\n",
      "2024-12-15 01:58:25,183 [INFO] Loaded model from: models/Distance_Angle_model.pkl\n",
      "2024-12-15 01:58:25,183 - INFO - Loaded model from: models/Distance_Angle_model.pkl\n",
      "2024-12-15 01:58:25,183 [INFO] Default model Distance_Angle version v0 loaded successfully.\n",
      "2024-12-15 01:58:25,183 - INFO - Default model Distance_Angle version v0 loaded successfully.\n",
      "2024-12-15 01:58:28,223 [INFO] Predictions made successfully.\n",
      "2024-12-15 01:58:28,223 - INFO - Predictions made successfully.\n",
      "2024-12-15 01:58:33,559 [INFO] {'workspace': 'ms2-logistic-regression', 'model': 'Distance_Only', 'version': 'v0'}\n",
      "2024-12-15 01:58:33,559 - INFO - {'workspace': 'ms2-logistic-regression', 'model': 'Distance_Only', 'version': 'v0'}\n",
      "2024-12-15 01:58:33,560 [INFO] Downloading model Distance_Only version v0 from WandB registry.\n",
      "2024-12-15 01:58:33,560 - INFO - Downloading model Distance_Only version v0 from WandB registry.\n",
      "2024-12-15 01:58:36,557 [INFO] Loaded model from: models/Distance_Only_model.pkl\n",
      "2024-12-15 01:58:36,557 - INFO - Loaded model from: models/Distance_Only_model.pkl\n",
      "2024-12-15 01:58:36,557 [INFO] Successfully loaded model: Distance_Only version v0\n",
      "2024-12-15 01:58:36,557 - INFO - Successfully loaded model: Distance_Only version v0\n",
      "2024-12-15 01:58:45,232 [INFO] Predictions made successfully.\n",
      "2024-12-15 01:58:45,232 - INFO - Predictions made successfully.\n",
      "2024-12-15 01:59:04,920 [INFO] {'workspace': 'ms2-logistic-regression', 'model': 'Distance_Angle', 'version': 'v0'}\n",
      "2024-12-15 01:59:04,920 - INFO - {'workspace': 'ms2-logistic-regression', 'model': 'Distance_Angle', 'version': 'v0'}\n",
      "2024-12-15 01:59:04,920 [INFO] Model Distance_Angle version v0 already exists locally. Loading it.\n",
      "2024-12-15 01:59:04,920 - INFO - Model Distance_Angle version v0 already exists locally. Loading it.\n",
      "2024-12-15 01:59:04,920 [INFO] Loaded model from: models/Distance_Angle_model.pkl\n",
      "2024-12-15 01:59:04,920 - INFO - Loaded model from: models/Distance_Angle_model.pkl\n",
      "2024-12-15 01:59:04,920 [INFO] Successfully loaded model: Distance_Angle version v0\n",
      "2024-12-15 01:59:04,920 - INFO - Successfully loaded model: Distance_Angle version v0\n",
      "2024-12-15 01:59:08,047 [INFO] Processed 63 events for game ID 2021020001.\n",
      "2024-12-15 01:59:08,047 - INFO - Processed 63 events for game ID 2021020001.\n",
      "</pre>\n"
     ]
    }
   ],
   "source": [
    "test_logs()"
   ]
  },
  {
   "cell_type": "code",
   "execution_count": 3,
   "metadata": {},
   "outputs": [
    {
     "name": "stdout",
     "output_type": "stream",
     "text": [
      "\n",
      "Testing /process_game...\n",
      "No new events to process or the game is already fully processed.\n"
     ]
    }
   ],
   "source": [
    "client = ServingClient(ip=\"127.0.0.1\", port=5000)\n",
    "\n",
    "# Test /process_game\n",
    "game_id = \"2020020001\"  # Replace with a valid game ID\n",
    "print(\"\\nTesting /process_game...\")\n",
    "\n",
    "processed_data = client.process_game(game_id)\n",
    "\n",
    "if processed_data is None:\n",
    "    print(\"No new events to process or the game is already fully processed.\")\n",
    "else:\n",
    "    print(\"Successfully processed events:\")\n",
    "    print(processed_data.head())  # Display the first few rows of the processed data"
   ]
  }
 ],
 "metadata": {
  "kernelspec": {
   "display_name": "ift6758-conda-env",
   "language": "python",
   "name": "ift6758-conda-env"
  },
  "language_info": {
   "codemirror_mode": {
    "name": "ipython",
    "version": 3
   },
   "file_extension": ".py",
   "mimetype": "text/x-python",
   "name": "python",
   "nbconvert_exporter": "python",
   "pygments_lexer": "ipython3",
   "version": "3.12.5"
  }
 },
 "nbformat": 4,
 "nbformat_minor": 2
}
