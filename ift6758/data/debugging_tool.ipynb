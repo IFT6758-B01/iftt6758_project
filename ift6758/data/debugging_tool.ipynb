{
 "cells": [
  {
   "cell_type": "markdown",
   "metadata": {},
   "source": [
    "# create interactive debugging tool for data"
   ]
  },
  {
   "cell_type": "code",
   "execution_count": 19,
   "metadata": {},
   "outputs": [],
   "source": [
    "import ipywidgets as widgets\n",
    "from ipywidgets import interact, interactive, fixed, interact_manual\n",
    "import matplotlib.pyplot as plt\n",
    "from IPython.display import display\n",
    "import pandas as pd\n",
    "from data_acquisition import NHLDataFetcher \n",
    "import pprint\n",
    "import matplotlib.image as mpimg \n",
    "from typing import Union\n",
    "from textwrap import dedent\n",
    "import os"
   ]
  },
  {
   "cell_type": "code",
   "execution_count": 20,
   "metadata": {},
   "outputs": [],
   "source": [
    "# define function and variable for plot nhl data\n",
    "#season_list = [2015,2016,2017,2018,2019,2020,2021,2022,2023]\n",
    "season_list = [2015]\n",
    "game_type = ['regular', 'playoff']\n",
    "nhl_data = NHLDataFetcher(base_url = \"https://api-web.nhle.com/v1/gamecenter/{}/play-by-play\") \n"
   ]
  },
  {
   "cell_type": "code",
   "execution_count": 21,
   "metadata": {},
   "outputs": [
    {
     "data": {
      "application/vnd.jupyter.widget-view+json": {
       "model_id": "28ed722df4514f77b9e17145c54f24b8",
       "version_major": 2,
       "version_minor": 0
      },
      "text/plain": [
       "Label(value='Max Game ID: 1230')"
      ]
     },
     "metadata": {},
     "output_type": "display_data"
    },
    {
     "data": {
      "application/vnd.jupyter.widget-view+json": {
       "model_id": "3487f9df1a14440091e509ce718480af",
       "version_major": 2,
       "version_minor": 0
      },
      "text/plain": [
       "interactive(children=(Dropdown(description='Season:', options=('2015', '2016', '2017', '2018', '2019', '2020',…"
      ]
     },
     "metadata": {},
     "output_type": "display_data"
    }
   ],
   "source": [
    "class NHLDataViewer:\n",
    "    def __init__(self):\n",
    "          self.select_season = ''\n",
    "          self.select_game_type = '' \n",
    "          self.event_intslider = widgets.IntSlider(\n",
    "                value=1,\n",
    "                min=1,\n",
    "                max=200\n",
    "        )   \n",
    "    \n",
    "    def visualize_events(self,season, game_type, game_id, event_id):\n",
    "        game_type_value = '03'\n",
    "        if(game_type == 'regular'):\n",
    "            game_type_value = '02'\n",
    "        game_id =  f\"game_{season}{game_type_value}{str(game_id).zfill(4)}\"\n",
    "\n",
    "        game_data = nhl_data.get_game_data_by_id(game_id)\n",
    "        if( game_data != None):\n",
    "            time_label = widgets.Label(value=game_data['startTimeUTC'])\n",
    "            title_label = widgets.Label(value=f\"Game ID: {game_data['id'] }; {game_data['homeTeam']['abbrev']}(home) VS {game_data['awayTeam']['abbrev']}(away)\")\n",
    "            display(time_label,title_label)\n",
    "\n",
    "            #print(game_data)\n",
    "            print(game_data['startTimeUTC'])\n",
    "            print(f\"Game ID: {game_data['id']}; {game_data['homeTeam']['abbrev']} (home) vs {game_data['awayTeam']['abbrev']} (away)\")\n",
    "            \n",
    "            col1 = ['', 'Teams', 'Goals', 'SoG']\n",
    "            col2 = [\"Home\",f\"{game_data['homeTeam']['abbrev']}\", f\"{game_data['homeTeam']['score']}\", f\"{game_data['homeTeam']['sog']}\"]\n",
    "            col3 = [\"Away\",f\"{game_data['awayTeam']['abbrev']}\", f\"{game_data['awayTeam']['score']}\", f\"{game_data['awayTeam']['sog']}\"]\n",
    "            print('')\n",
    "            for c1, c2, c3 in zip(col1, col2, col3):\n",
    "                print(f'{c1:<18} {c2:<18} {c3:<18}')\n",
    "            \n",
    "            event_count = len(game_data['plays'])            \n",
    "\n",
    "            self.event_intslider.max=event_count\n",
    "            \n",
    "            #display(event_intslider)             \n",
    "            \n",
    "\n",
    "            #event_id = event_intslider.value\n",
    "            event_data = game_data['plays'][event_id-1]\n",
    "            \n",
    "            \n",
    "            fig, ax = plt.subplots()\n",
    "            image_path = 'patinoire.png'\n",
    "            img = mpimg.imread(image_path)\n",
    "            img_height, img_width = img.shape[0], img.shape[1]\n",
    "\n",
    "            \n",
    "            ax.imshow(img, extent=[-100, 100, -42.5, 42.5], origin='lower')\n",
    "\n",
    "            \n",
    "            ax.spines['left'].set_position(('axes', 0))  \n",
    "            ax.spines['bottom'].set_position(('axes', 0)) \n",
    "\n",
    "            ax.spines['right'].set_color('none')\n",
    "            ax.spines['top'].set_color('none')\n",
    "            \n",
    "            if('details' in event_data and 'xCoord' in event_data['details'] and 'yCoord' in event_data['details']):\n",
    "                ax.scatter(event_data['details']['xCoord'], event_data['details']['yCoord'], color=\"blue\", s=100, zorder=5)\n",
    "            \n",
    "            y_min, y_max = plt.ylim()\n",
    "            home_team_position_x = 40 \n",
    "            away_team_position_x = -60 \n",
    "            if 'homeTeamDefendingSide' in event_data:\n",
    "                if event_data['homeTeamDefendingSide'] == 'right':\n",
    "                    home_team_position_x = 40\n",
    "                    away_team_position_x = -60\n",
    "                else:\n",
    "                    home_team_position_x = -60\n",
    "                    away_team_position_x = 40\n",
    "            \n",
    "            plt.text(home_team_position_x, y_max, game_data['homeTeam']['abbrev'], fontsize=12, verticalalignment='bottom')\n",
    "            plt.text(away_team_position_x, y_max, game_data['awayTeam']['abbrev'], fontsize=12, verticalalignment='bottom')\n",
    "            plt.show()                    \n",
    "            pprint.pprint(event_data)\n",
    "\n",
    "            \n",
    "    def create_interactive_viewer(self):\n",
    "        season_dropdown = widgets.Dropdown(\n",
    "            options=[str(year) for year in range(2015,2024)],\n",
    "            description='Season:',\n",
    "        )\n",
    "        \n",
    "        game_type_dropdown = widgets.Dropdown(\n",
    "            options=['regular','playoff'],\n",
    "            description='Game Type:',\n",
    "        )\n",
    "        \n",
    "        game_intslider = widgets.IntSlider(\n",
    "            value=1,\n",
    "            min=1,\n",
    "            max=1,\n",
    "            description ='Game ID',\n",
    "            continuous_update=True\n",
    "        )\n",
    "        max_game_label = widgets.Label(value=\"Max Game ID:\")\n",
    "\n",
    "        def update_game_dropdown(change):\n",
    "            season = change['new']\n",
    "            game_type = game_type_dropdown.value\n",
    "            game_type_value = '03'\n",
    "            if(game_type_dropdown.value == 'regular'):\n",
    "                game_type_value = '02'\n",
    "            file_prefix = f\"game_{season}{game_type_value}\"\n",
    "            max_number = len([f for f in os.listdir(nhl_data.save_dir+'/'+season) if f.startswith(file_prefix)])\n",
    "            if(max_number <= 0):\n",
    "                game_intslider.disabled = True\n",
    "            else:\n",
    "                game_intslider.disabled = False\n",
    "                game_intslider.max = max_number\n",
    "                       \n",
    "            max_game_label.value = f\"Max Game ID: {max_number}\"\n",
    "\n",
    "        def update_game_dropdown_event_type(change):\n",
    "            update_game_dropdown({'new': season_dropdown.value})\n",
    "            \n",
    "        season_dropdown.observe(update_game_dropdown, names='value')\n",
    "        game_type_dropdown.observe(update_game_dropdown_event_type, names='value')\n",
    "        update_game_dropdown({'new': season_dropdown.value})\n",
    "        display(max_game_label)\n",
    "        \n",
    "        widgets.interact(self.visualize_events,season=season_dropdown, game_type=game_type_dropdown, game_id=game_intslider, event_id=self.event_intslider)\n",
    "\n",
    "\n",
    "        \n",
    "NHLDataViewer().create_interactive_viewer()"
   ]
  },
  {
   "cell_type": "code",
   "execution_count": null,
   "metadata": {},
   "outputs": [],
   "source": []
  }
 ],
 "metadata": {
  "kernelspec": {
   "display_name": "base",
   "language": "python",
   "name": "python3"
  },
  "language_info": {
   "codemirror_mode": {
    "name": "ipython",
    "version": 3
   },
   "file_extension": ".py",
   "mimetype": "text/x-python",
   "name": "python",
   "nbconvert_exporter": "python",
   "pygments_lexer": "ipython3",
   "version": "3.11.9"
  }
 },
 "nbformat": 4,
 "nbformat_minor": 2
}
